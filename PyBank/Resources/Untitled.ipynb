{
 "cells": [
  {
   "cell_type": "code",
   "execution_count": null,
   "id": "8da49694-e27c-4a25-b9ca-520cfefb9c3f",
   "metadata": {},
   "outputs": [],
   "source": []
  },
  {
   "cell_type": "code",
   "execution_count": 2,
   "id": "9a0bd7f4-7b0f-4c7b-bc96-e771540c317c",
   "metadata": {},
   "outputs": [
    {
     "name": "stdout",
     "output_type": "stream",
     "text": [
      "Total Profits/Losses: $38382578\n",
      "Average Change: $-2315.12\n",
      "Total Months: 86\n",
      "The greatest increase in profits: $1926159\n",
      "The greatest decrease in profits: $-2196167\n"
     ]
    }
   ],
   "source": [
    "# import modules\n",
    "import os\n",
    "import csv\n",
    "\n",
    "\n",
    "# path to file\n",
    "budget_path = os.path.join(\"..\", \"Resources\", \"budget_data.csv\")\n",
    "\n",
    "# make empty buckets\n",
    "total = []\n",
    "months = []\n",
    "month_change = []\n",
    "\n",
    "# make calculation for average\n",
    "def average (numbers):\n",
    "    total = 0.0\n",
    "    for number in numbers:\n",
    "        total += number\n",
    "    find_average = total/len(numbers)\n",
    "    return find_average\n",
    "\n",
    "with open(budget_path) as csvfile:\n",
    "\n",
    "    # specify CSV delimiter\n",
    "    csvreader = csv.reader(csvfile, delimiter=',')\n",
    "    # remove header\n",
    "    csv_header = next(csvfile)\n",
    "    # append rows\n",
    "    for row in csvreader:\n",
    "        months.append(row[0])\n",
    "        total.append(row[1])\n",
    "        month_change.append(int(row[1]))\n",
    "\n",
    "    # find net amount profit and losses\n",
    "    total_revenue = 0\n",
    "    for values in total:\n",
    "        total_revenue += int(values)\n",
    "    print(f'Total Profits/Losses: ${total_revenue}')\n",
    "    net_revenue = [j-i for i,j in zip(month_change[:-1], month_change[1:])]\n",
    "    print(f'Average Change: ${round(average(net_revenue),2)}')\n",
    "    net_revenue.sort(reverse=True)\n",
    "    \n",
    "    print(f'Total Months: {len(months)}')\n",
    "    print(f'The greatest increase in profits: ${net_revenue[0]}')\n",
    "    print(f'The greatest decrease in profits: ${net_revenue[len(net_revenue)-1]}')\n",
    "\n",
    "    # output\n",
    "    output_path = 'Financial Analysis.txt'\n",
    "with open(output_path, 'w', newline ='') as csvfile:\n",
    "    csvwriter = csv.writer(csvfile, delimiter=',')\n",
    "    csvwriter.writerow(['Financial Analysis'])\n",
    "    csvwriter.writerow([\"------------------------------------------------------\"])\n",
    "    csvwriter.writerow([f'Total Months: {len(months)}'])\n",
    "    csvwriter.writerow([f'Total Profits/Losses: ${total_revenue}'])\n",
    "    csvwriter.writerow([f'Average Change: ${round(average(net_revenue),2)}'])\n",
    "    csvwriter.writerow([f'The greatest increase in profits: ${net_revenue[0]}'])\n",
    "    csvwriter.writerow([f'The greatest decrease in profits: ${net_revenue[len(net_revenue)-1]}'])\n"
   ]
  }
 ],
 "metadata": {
  "kernelspec": {
   "display_name": "Python 3",
   "language": "python",
   "name": "python3"
  },
  "language_info": {
   "codemirror_mode": {
    "name": "ipython",
    "version": 3
   },
   "file_extension": ".py",
   "mimetype": "text/x-python",
   "name": "python",
   "nbconvert_exporter": "python",
   "pygments_lexer": "ipython3",
   "version": "3.8.8"
  }
 },
 "nbformat": 4,
 "nbformat_minor": 5
}
